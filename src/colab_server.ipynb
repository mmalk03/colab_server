{
 "nbformat": 4,
 "nbformat_minor": 0,
 "metadata": {
  "colab": {
   "name": "CUDA_GPU-server.ipynb",
   "provenance": [],
   "collapsed_sections": []
  },
  "kernelspec": {
   "name": "python3",
   "display_name": "Python 3"
  },
  "accelerator": "GPU",
  "pycharm": {
   "stem_cell": {
    "cell_type": "raw",
    "source": [],
    "metadata": {
     "collapsed": false
    }
   }
  }
 },
 "cells": [
  {
   "cell_type": "markdown",
   "metadata": {
    "id": "7KYvm7elVabs",
    "colab_type": "text"
   },
   "source": [
    "# Configuration of ssh access\n",
    "\n",
    "#### TODO: automatically generate ngrok auth token\n",
    "#### TODO: automatically fetch ngrok tcp port"
   ]
  },
  {
   "cell_type": "code",
   "metadata": {
    "id": "C0t3EVVaWbUJ",
    "colab_type": "code",
    "colab": {
     "base_uri": "https://localhost:8080/",
     "height": 275
    },
    "outputId": "e65fc9ec-5a92-4574-e4b6-d0ae8d816c55",
    "pycharm": {
     "name": "#%%\n"
    }
   },
   "source": [
    "# Setup sshd\n",
    "! apt-get install -qq -o=Dpkg::Use-Pty=0 openssh-server pwgen > /dev/null\n",
    "! mkdir -p /var/run/sshd\n",
    "! echo \"PermitRootLogin yes\" >> /etc/ssh/sshd_config\n",
    "get_ipython().system_raw('/usr/sbin/sshd -D &')\n",
    "\n",
    "# Download Ngrok\n",
    "! wget -q -c -nc https://bin.equinox.io/c/4VmDzA7iaHb/ngrok-stable-linux-amd64.zip\n",
    "! unzip -qq -n ngrok-stable-linux-amd64.zip\n",
    "\n",
    "# Ask for Ngrok token\n",
    "print(\"Get your authtoken from https://dashboard.ngrok.com/auth\")\n",
    "import getpass\n",
    "authtoken = getpass.getpass()\n",
    "\n",
    "# Create tunnel\n",
    "get_ipython().system_raw('./ngrok authtoken $authtoken && ./ngrok tcp 22 &')\n",
    "\n",
    "# Enable public key ssh authentication\n",
    "! rm -rf /root/.ssh && mkdir /root/.ssh\n",
    "! wget -q -O /root/.ssh/authorized_keys 'https://your.public.ssh.key'  # replace with url to your public key\n",
    "\n",
    "# Connect with ssh and setup project\n",
    "port = input('Ngrok tcp port (https://dashboard.ngrok.com/status): ')\n",
    "print('bash src/bash/connect_to_colab.sh -p', port, '-s')"
   ],
   "execution_count": 4,
   "outputs": []
  }
 ]
}